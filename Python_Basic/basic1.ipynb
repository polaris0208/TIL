{
 "cells": [
  {
   "cell_type": "markdown",
   "id": "9d8d3414",
   "metadata": {},
   "source": [
    "- command + a : 전체\n",
    "- import sys\n",
    "- sys.stdin.readline().strip().split(' ') = input() 의 더 가벼윤 버전, 줄바꿈이 강제되어 있기 떄문에 strip으로 제거\n",
    "- map : 묶어준다\n",
    "- strip : 양쪽 공백 제거\n",
    "- split(' ') : ' ' 을 기준으로 나눔\n",
    "- print('a = {0}'.format(a)) - 인덱스로 지정\n",
    "- print('a = {num_a}'.format(num_a = a)) - 변수로 지정 - 가시성이 제일 좋은 방법"
   ]
  },
  {
   "cell_type": "markdown",
   "id": "8056996f-6fbf-4c95-87b7-e79d5838b5dc",
   "metadata": {},
   "source": [
    "### **001 print 기초**\n",
    "\n",
    "화면에 `Hello World` 문자열을 출력하세요."
   ]
  },
  {
   "cell_type": "code",
   "execution_count": 1,
   "id": "8b2c7834-b9ab-4114-b342-28736c3bea40",
   "metadata": {},
   "outputs": [
    {
     "name": "stdout",
     "output_type": "stream",
     "text": [
      "Hello World\n"
     ]
    }
   ],
   "source": [
    "print('Hello World')"
   ]
  },
  {
   "cell_type": "markdown",
   "id": "0f1a29c4-2fcb-4d08-979e-48737a9013ae",
   "metadata": {},
   "source": [
    "### **002 print 기초**\n",
    "\n",
    "화면에 `Mary's cosmetics`을 출력하세요. (중간에 '가 있음에 주의하세요)"
   ]
  },
  {
   "cell_type": "code",
   "execution_count": 2,
   "id": "5cf78040-050e-4ea2-b851-1c1a46e3a273",
   "metadata": {},
   "outputs": [
    {
     "name": "stdout",
     "output_type": "stream",
     "text": [
      "Mary's cosmetic\n"
     ]
    }
   ],
   "source": [
    "print(\"Mary's cosmetic\")"
   ]
  },
  {
   "cell_type": "markdown",
   "id": "3765e210-be82-4e3a-856f-2fbeb859f05c",
   "metadata": {},
   "source": [
    "### **003 print 기초**\n",
    "\n",
    "화면에 아래 문장을 출력하세요. (중간에 \"가 있음에 주의하세요.)\n",
    "\n",
    "```python\n",
    "신씨가 소리질렀다. \"도둑이야\".\n",
    "```"
   ]
  },
  {
   "cell_type": "code",
   "execution_count": 3,
   "id": "3b391296-9d44-49a5-b03a-2208a503516e",
   "metadata": {},
   "outputs": [
    {
     "name": "stdout",
     "output_type": "stream",
     "text": [
      "신씨가 소리질렀다. \"도둑이야\".\n"
     ]
    }
   ],
   "source": [
    "print('신씨가 소리질렀다. \"도둑이야\".')"
   ]
  },
  {
   "cell_type": "markdown",
   "id": "d7ba54c8-890f-4f16-80e6-acdf9319de75",
   "metadata": {},
   "source": [
    "### **004 print 기초**\n",
    "\n",
    "화면에 `C:\\Windows`를 출력하세요."
   ]
  },
  {
   "cell_type": "code",
   "execution_count": 4,
   "id": "4ea9157b-518f-40d1-bba3-54843afde322",
   "metadata": {},
   "outputs": [
    {
     "name": "stdout",
     "output_type": "stream",
     "text": [
      "C:\\Windows\n"
     ]
    }
   ],
   "source": [
    "print(r'C:\\Windows')"
   ]
  },
  {
   "cell_type": "markdown",
   "id": "44c9fbe6-42e1-412c-92ea-61b7f2071d81",
   "metadata": {},
   "source": [
    "### **005 print 탭과 줄바꿈**\n",
    "\n",
    "다음 코드를 실행해보고 \\t와 \\n의 역할을 설명해보세요.\n",
    "\n",
    "```python\n",
    "print(\"안녕하세요.\\n만나서\\t\\t반갑습니다.\")\n",
    "```"
   ]
  },
  {
   "cell_type": "code",
   "execution_count": 5,
   "id": "b221d1e5-8d58-4035-bdf9-2134ba608d4e",
   "metadata": {},
   "outputs": [
    {
     "name": "stdout",
     "output_type": "stream",
     "text": [
      "안녕하세요.\n",
      "만나서\t\t반갑습니다.\n"
     ]
    }
   ],
   "source": [
    "print(\"안녕하세요.\\n만나서\\t\\t반갑습니다.\")\n",
    "# \\n 줄바꿈\n",
    "# \\t tap"
   ]
  },
  {
   "cell_type": "markdown",
   "id": "2d14b48b-6706-4fa3-9578-cdf877df20bb",
   "metadata": {},
   "source": [
    "### **006 print 여러 데이터 출력**\n",
    "\n",
    "print 함수에 두 개의 단어를 입력한 예제입니다. 아래 코드의 출력 결과를 예상해봅시다.\n",
    "\n",
    "```python\n",
    "print (\"오늘은\", \"일요일\")\n",
    "```"
   ]
  },
  {
   "cell_type": "code",
   "execution_count": 6,
   "id": "e3cafc35-64c7-43f2-8d9e-76bc9562d4d0",
   "metadata": {},
   "outputs": [
    {
     "name": "stdout",
     "output_type": "stream",
     "text": [
      "오늘은 일요일\n"
     ]
    }
   ],
   "source": [
    "print (\"오늘은\", \"일요일\")"
   ]
  },
  {
   "cell_type": "markdown",
   "id": "f12884dd-a3a3-4805-ba70-3983ab33fd99",
   "metadata": {},
   "source": [
    "### **007 print 기초**\n",
    "\n",
    "print() 함수를 사용하여 다음과 같이 출력하세요.\n",
    "\n",
    "```python\n",
    "naver;kakao;sk;samsung\n",
    "```"
   ]
  },
  {
   "cell_type": "code",
   "execution_count": 13,
   "id": "545abe0c-3482-4e5d-91d0-d9fad60c8c4e",
   "metadata": {},
   "outputs": [
    {
     "name": "stdout",
     "output_type": "stream",
     "text": [
      "naver;kakao;sksamsung\n"
     ]
    }
   ],
   "source": [
    "print('naver', 'kakao', 'sksamsung', sep=';') # 프린트 함수 파라미터"
   ]
  },
  {
   "cell_type": "markdown",
   "id": "074618cd-b6de-4c36-9cf7-ad92eaa0aca4",
   "metadata": {},
   "source": [
    "### **008 print 기초**\n",
    "\n",
    "print() 함수를 사용하여 다음과 같이 출력하세요.\n",
    "\n",
    "```\n",
    "naver/kakao/sk/samsung\n",
    "```"
   ]
  },
  {
   "cell_type": "code",
   "execution_count": 16,
   "id": "f6b4763a-f0b7-42f0-b1ab-64558f11d06f",
   "metadata": {},
   "outputs": [
    {
     "name": "stdout",
     "output_type": "stream",
     "text": [
      "naver/kakao/sk/samsung\n"
     ]
    }
   ],
   "source": [
    "print('naver', 'kakao', 'sk', 'samsung', sep='/')"
   ]
  },
  {
   "cell_type": "markdown",
   "id": "e18fef96-e888-4322-b6c2-549a49c9debb",
   "metadata": {},
   "source": [
    "### **009 print 줄바꿈**\n",
    "\n",
    "다음 코드를 수정하여 줄바꿈이 없이 출력하세요. (힌트: end='') print 함수는 두 번 사용합니다. 세미콜론 (;)은 한줄에 여러 개의 명령을 작성하기 위해 사용합니다.\n",
    "\n",
    "```python\n",
    "print(\"first\");print(\"second\")\n",
    "```"
   ]
  },
  {
   "cell_type": "code",
   "execution_count": 23,
   "id": "22ad8d6f-440a-4546-979e-5cc95d762f9e",
   "metadata": {},
   "outputs": [
    {
     "name": "stdout",
     "output_type": "stream",
     "text": [
      "first second\n"
     ]
    }
   ],
   "source": [
    "print(\"first\", end = ' ');print(\"second\")\n"
   ]
  },
  {
   "cell_type": "markdown",
   "id": "cb233eef-97d9-4d1f-9ddb-282b61541433",
   "metadata": {},
   "source": [
    "### **010 연산 결과 출력**\n",
    "\n",
    "5/3의 결과를 화면에 출력하세요."
   ]
  },
  {
   "cell_type": "code",
   "execution_count": 24,
   "id": "29a754c2-86df-44be-9c97-3aa683f0015e",
   "metadata": {},
   "outputs": [
    {
     "name": "stdout",
     "output_type": "stream",
     "text": [
      "1.6666666666666667\n"
     ]
    }
   ],
   "source": [
    "print(5/3)"
   ]
  },
  {
   "cell_type": "code",
   "execution_count": 2,
   "id": "dd3f1a18",
   "metadata": {},
   "outputs": [
    {
     "name": "stdout",
     "output_type": "stream",
     "text": [
      "number1 + number2 = 5\n",
      "number1 + number2 = 2 + 3\n"
     ]
    }
   ],
   "source": [
    "number1 = 2\n",
    "number2 = 3\n",
    "print(f\"number1 + number2 = {number1 + number2}\")\n",
    "print(f\"number1 + number2 = {number1} + {number2}\")\n",
    " "
   ]
  },
  {
   "cell_type": "code",
   "execution_count": null,
   "id": "5932aa95",
   "metadata": {},
   "outputs": [],
   "source": [
    "!pip install ipywidgets"
   ]
  }
 ],
 "metadata": {
  "kernelspec": {
   "display_name": "Python 3 (ipykernel)",
   "language": "python",
   "name": "python3"
  },
  "language_info": {
   "codemirror_mode": {
    "name": "ipython",
    "version": 3
   },
   "file_extension": ".py",
   "mimetype": "text/x-python",
   "name": "python",
   "nbconvert_exporter": "python",
   "pygments_lexer": "ipython3",
   "version": "3.12.4"
  }
 },
 "nbformat": 4,
 "nbformat_minor": 5
}
